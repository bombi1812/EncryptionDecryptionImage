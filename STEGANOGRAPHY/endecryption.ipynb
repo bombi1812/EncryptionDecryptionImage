{
 "cells": [
  {
   "cell_type": "code",
   "execution_count": 8,
   "metadata": {},
   "outputs": [],
   "source": [
    "import cv2\n",
    "import os\n",
    "\n",
    "\n"
   ]
  },
  {
   "cell_type": "code",
   "execution_count": 9,
   "metadata": {},
   "outputs": [],
   "source": [
    "d={}\n",
    "c={}\n",
    "for i in range(255):\n",
    "    d[chr(i)]=i\n",
    "    c[i]=chr(i)\n",
    "  "
   ]
  },
  {
   "cell_type": "code",
   "execution_count": 10,
   "metadata": {},
   "outputs": [
    {
     "name": "stdout",
     "output_type": "stream",
     "text": [
      "1200 1200\n"
     ]
    },
    {
     "name": "stderr",
     "output_type": "stream",
     "text": [
      "<>:3: SyntaxWarning: invalid escape sequence '\\p'\n",
      "<>:3: SyntaxWarning: invalid escape sequence '\\p'\n",
      "C:\\Users\\Lucifer\\AppData\\Local\\Temp\\ipykernel_2536\\2755641017.py:3: SyntaxWarning: invalid escape sequence '\\p'\n",
      "  x=cv2.imread(\"B:\\projects\\personal\\STEGANOGRAPHY\\image1.jpeg\")\n"
     ]
    }
   ],
   "source": [
    "#Encrypt image\n",
    "\n",
    "x=cv2.imread(\"B:\\projects\\personal\\STEGANOGRAPHY\\image1.jpeg\")\n",
    "\n",
    "i=x.shape[0]#prints dimension\n",
    "j=x.shape[1]\n",
    "\n",
    "print(i,j)\n",
    "\n"
   ]
  },
  {
   "cell_type": "code",
   "execution_count": 11,
   "metadata": {},
   "outputs": [],
   "source": [
    "passkey=input(\"Enter your password:\")\n",
    "txt=input(\"Please enter your secrete message:\")\n"
   ]
  },
  {
   "cell_type": "code",
   "execution_count": 12,
   "metadata": {},
   "outputs": [],
   "source": [
    "\n",
    "kl=0\n",
    "tln=len(txt)\n",
    "p=0\n",
    "q=0\n",
    "r=0\n",
    "l=len(txt)\n",
    "for i in range(l):\n",
    "    x[p,q,r]=d[txt[i]]^d[passkey[kl]]\n",
    "    p=p+1\n",
    "    q=q+1\n",
    "    q=(q+1)%3\n",
    "    kl=(kl+1)%len(passkey)\n",
    "\n"
   ]
  },
  {
   "cell_type": "code",
   "execution_count": 13,
   "metadata": {},
   "outputs": [
    {
     "name": "stdout",
     "output_type": "stream",
     "text": [
      "SUCCESS hiding\n"
     ]
    }
   ],
   "source": [
    "cv2.imwrite(\"image.jpeg\",x)\n",
    "os.startfile(\"image.jpeg\")\n",
    "print(\"SUCCESS hiding\")"
   ]
  },
  {
   "cell_type": "code",
   "execution_count": 14,
   "metadata": {},
   "outputs": [],
   "source": [
    "#Decryption\n",
    "kl=0\n",
    "tln=len(txt)\n",
    "p=0\n",
    "q=0\n",
    "r=0\n",
    "ch=int(input(\"Enter 1 to extract an image: \"))\n",
    "\n",
    "\n",
    "\n"
   ]
  },
  {
   "cell_type": "code",
   "execution_count": 15,
   "metadata": {},
   "outputs": [
    {
     "name": "stdout",
     "output_type": "stream",
     "text": [
      "Encrypted text was :  Hi welcome to my program\n"
     ]
    }
   ],
   "source": [
    "if ch==1:\n",
    "    key1=input(\"Enter the password to extract the image:\")\n",
    "    decrypt=\"\"\n",
    "    if passkey==key1:\n",
    "        for i in range(l):\n",
    "            decrypt+=c[x[p,q,r]^d[passkey[kl]]]\n",
    "            p=p+1\n",
    "            q=q+1\n",
    "            q=(q+1)%3\n",
    "            kl=(kl+1)%len(passkey)\n",
    "        print(\"Encrypted text was : \",decrypt)\n",
    "    else:\n",
    "        print(\"error breach!!!!!!!!!!!\")\n",
    "else:\n",
    "    print(\"Thank you\")\n"
   ]
  },
  {
   "cell_type": "code",
   "execution_count": null,
   "metadata": {},
   "outputs": [],
   "source": []
  }
 ],
 "metadata": {
  "kernelspec": {
   "display_name": "Python 3",
   "language": "python",
   "name": "python3"
  },
  "language_info": {
   "codemirror_mode": {
    "name": "ipython",
    "version": 3
   },
   "file_extension": ".py",
   "mimetype": "text/x-python",
   "name": "python",
   "nbconvert_exporter": "python",
   "pygments_lexer": "ipython3",
   "version": "3.12.3"
  }
 },
 "nbformat": 4,
 "nbformat_minor": 2
}
